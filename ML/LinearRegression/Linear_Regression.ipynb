{
 "cells": [
  {
   "cell_type": "code",
   "execution_count": 1,
   "id": "4257781f",
   "metadata": {},
   "outputs": [],
   "source": [
    "import numpy as np\n",
    "import pandas as pd\n",
    "import matplotlib.pyplot as plt\n",
    "%matplotlib inline"
   ]
  },
  {
   "cell_type": "code",
   "execution_count": 2,
   "id": "bb3ede21",
   "metadata": {},
   "outputs": [
    {
     "name": "stdout",
     "output_type": "stream",
     "text": [
      "Requirement already satisfied: scikit-learn in c:\\users\\jagannath\\appdata\\local\\programs\\python\\python36\\lib\\site-packages (0.24.2)\n",
      "Requirement already satisfied: numpy>=1.13.3 in c:\\users\\jagannath\\appdata\\local\\programs\\python\\python36\\lib\\site-packages (from scikit-learn) (1.19.5)\n",
      "Requirement already satisfied: scipy>=0.19.1 in c:\\users\\jagannath\\appdata\\local\\programs\\python\\python36\\lib\\site-packages (from scikit-learn) (1.5.4)\n",
      "Requirement already satisfied: threadpoolctl>=2.0.0 in c:\\users\\jagannath\\appdata\\local\\programs\\python\\python36\\lib\\site-packages (from scikit-learn) (3.0.0)\n",
      "Requirement already satisfied: joblib>=0.11 in c:\\users\\jagannath\\appdata\\local\\programs\\python\\python36\\lib\\site-packages (from scikit-learn) (1.1.0)\n"
     ]
    }
   ],
   "source": [
    "# !pip install scikit-learn"
   ]
  },
  {
   "cell_type": "code",
   "execution_count": 3,
   "id": "0e5920da",
   "metadata": {},
   "outputs": [],
   "source": [
    "from sklearn.datasets import make_regression"
   ]
  },
  {
   "cell_type": "code",
   "execution_count": 7,
   "id": "3f4c8eb9",
   "metadata": {},
   "outputs": [],
   "source": [
    "X, y = make_regression(n_samples = 500, n_features=1, bias = 4.2, noise = 12)"
   ]
  },
  {
   "cell_type": "code",
   "execution_count": 8,
   "id": "6e203326",
   "metadata": {},
   "outputs": [
    {
     "name": "stdout",
     "output_type": "stream",
     "text": [
      "(500, 1)\n",
      "(500,)\n"
     ]
    }
   ],
   "source": [
    "print(X.shape)\n",
    "print(y.shape)"
   ]
  },
  {
   "cell_type": "code",
   "execution_count": 9,
   "id": "bcce75f2",
   "metadata": {},
   "outputs": [
    {
     "data": {
      "image/png": "[encoded data removed]",
      "text/plain": [
       "<Figure size 432x288 with 1 Axes>"
      ]
     },
     "metadata": {
      "needs_background": "light"
     },
     "output_type": "display_data"
    }
   ],
   "source": [
    "plt.scatter(X,y)\n",
    "plt.show()"
   ]
  },
  {
   "cell_type": "code",
   "execution_count": 10,
   "id": "7541fe6d",
   "metadata": {},
   "outputs": [],
   "source": [
    "from sklearn.model_selection import train_test_split"
   ]
  },
  {
   "cell_type": "code",
   "execution_count": 11,
   "id": "14245fe7",
   "metadata": {},
   "outputs": [],
   "source": [
    "xtrain, xtest, ytrain, ytest = train_test_split(X, y)"
   ]
  },
  {
   "cell_type": "code",
   "execution_count": 12,
   "id": "8c890c51",
   "metadata": {
    "scrolled": true
   },
   "outputs": [
    {
     "name": "stdout",
     "output_type": "stream",
     "text": [
      "(375, 1) (375,)\n",
      "(125, 1) (125,)\n"
     ]
    }
   ],
   "source": [
    "print(xtrain.shape, ytrain.shape)\n",
    "print(xtest.shape, ytest.shape)"
   ]
  },
  {
   "cell_type": "code",
   "execution_count": 65,
   "id": "e56a3f36",
   "metadata": {},
   "outputs": [],
   "source": [
    "def hypothesis(x, W):\n",
    "    x0 = 1\n",
    "    x1 = x[0]\n",
    "    h = W[0]*x0 + W[1]*x1\n",
    "    return h"
   ]
  },
  {
   "cell_type": "code",
   "execution_count": 66,
   "id": "d42f823b",
   "metadata": {},
   "outputs": [],
   "source": [
    "def error(X, W, y):\n",
    "    err = 0.0\n",
    "    m = X.shape[0]\n",
    "    for i in range(m):\n",
    "        h = hypothesis(X[i], W)\n",
    "        err += (h - y[i])**2\n",
    "    err /= 2*m\n",
    "    return err"
   ]
  },
  {
   "cell_type": "code",
   "execution_count": 67,
   "id": "ac239deb",
   "metadata": {},
   "outputs": [],
   "source": [
    "def gradient_descent(X, W, y, learning_rate = 0.1):\n",
    "    m = X.shape[0]\n",
    "    grad0 = 0.0\n",
    "    grad1 = 0.0\n",
    "    for i in range(m):\n",
    "        grad1 += (y[i] - hypothesis(X[i], W))*X[i]\n",
    "        grad0 += (y[i] - hypothesis(X[i], W))*1 # for x0\n",
    "    grad1 /= m\n",
    "    grad0 /= m\n",
    "    W[1] = W[1] + learning_rate*grad1\n",
    "    W[0] = W[0] + learning_rate*grad0\n",
    "    err = error(X, W, y)\n",
    "    return W, err"
   ]
  },
  {
   "cell_type": "code",
   "execution_count": 68,
   "id": "d08055fd",
   "metadata": {},
   "outputs": [
    {
     "name": "stdout",
     "output_type": "stream",
     "text": [
      "[ 4.29097844 68.73887443]\n"
     ]
    }
   ],
   "source": [
    "W = np.array([0.5, 0.5])\n",
    "error_list = []\n",
    "for i in range(400):\n",
    "    W, err = gradient_descent(xtrain, W, ytrain)\n",
    "    error_list.append(err)\n",
    "print(W)"
   ]
  },
  {
   "cell_type": "code",
   "execution_count": 69,
   "id": "29b3e7a9",
   "metadata": {},
   "outputs": [],
   "source": [
    "# error_list"
   ]
  },
  {
   "cell_type": "code",
   "execution_count": 70,
   "id": "5abe6d7c",
   "metadata": {},
   "outputs": [
    {
     "data": {
      "image/png": "[encoded data removed]",
      "text/plain": [
       "<Figure size 432x288 with 1 Axes>"
      ]
     },
     "metadata": {
      "needs_background": "light"
     },
     "output_type": "display_data"
    }
   ],
   "source": [
    "plt.plot(error_list)\n",
    "plt.show()"
   ]
  },
  {
   "cell_type": "code",
   "execution_count": 71,
   "id": "21dd9c84",
   "metadata": {},
   "outputs": [
    {
     "data": {
      "image/png": "[encoded data removed]",
      "text/plain": [
       "<Figure size 432x288 with 1 Axes>"
      ]
     },
     "metadata": {
      "needs_background": "light"
     },
     "output_type": "display_data"
    }
   ],
   "source": [
    "plt.scatter(xtrain, ytrain)\n",
    "\n",
    "X = np.arange(-3,3)\n",
    "Y = W[0] + W[1]*X\n",
    "plt.plot(X, Y, c = 'r')\n",
    "\n",
    "plt.show()"
   ]
  },
  {
   "cell_type": "code",
   "execution_count": 72,
   "id": "4dfb6d3c",
   "metadata": {},
   "outputs": [],
   "source": [
    "from sklearn.linear_model import LinearRegression"
   ]
  },
  {
   "cell_type": "code",
   "execution_count": 73,
   "id": "76a7970a",
   "metadata": {},
   "outputs": [],
   "source": [
    "lr = LinearRegression?"
   ]
  },
  {
   "cell_type": "code",
   "execution_count": 74,
   "id": "9078f9e1",
   "metadata": {},
   "outputs": [],
   "source": [
    "lr = LinearRegression()"
   ]
  },
  {
   "cell_type": "code",
   "execution_count": 92,
   "id": "2dd41794",
   "metadata": {},
   "outputs": [
    {
     "data": {
      "text/plain": [
       "LinearRegression()"
      ]
     },
     "execution_count": 92,
     "metadata": {},
     "output_type": "execute_result"
    }
   ],
   "source": [
    "lr.fit(xtrain, ytrain)"
   ]
  },
  {
   "cell_type": "code",
   "execution_count": 93,
   "id": "d1047b92",
   "metadata": {},
   "outputs": [
    {
     "data": {
      "text/plain": [
       "4.870821629094264"
      ]
     },
     "execution_count": 93,
     "metadata": {},
     "output_type": "execute_result"
    }
   ],
   "source": [
    "lr.intercept_"
   ]
  },
  {
   "cell_type": "code",
   "execution_count": 94,
   "id": "b1f032d7",
   "metadata": {},
   "outputs": [],
   "source": [
    "y_pred = lr.predict([xtest[0]])"
   ]
  },
  {
   "cell_type": "code",
   "execution_count": 95,
   "id": "c9c29f0e",
   "metadata": {},
   "outputs": [
    {
     "data": {
      "text/plain": [
       "0.9919203417816185"
      ]
     },
     "execution_count": 95,
     "metadata": {},
     "output_type": "execute_result"
    }
   ],
   "source": [
    "lr.score(xtest, ytest)"
   ]
  },
  {
   "cell_type": "code",
   "execution_count": 86,
   "id": "3cd97cba",
   "metadata": {},
   "outputs": [
    {
     "data": {
      "text/plain": [
       "array([106.87781649])"
      ]
     },
     "execution_count": 86,
     "metadata": {},
     "output_type": "execute_result"
    }
   ],
   "source": [
    "y_pred"
   ]
  },
  {
   "cell_type": "code",
   "execution_count": 14,
   "id": "67a2d599",
   "metadata": {},
   "outputs": [],
   "source": [
    "from sklearn.linear_model import Lasso"
   ]
  },
  {
   "cell_type": "code",
   "execution_count": 15,
   "id": "52514ec1",
   "metadata": {},
   "outputs": [],
   "source": [
    "ls = Lasso()"
   ]
  },
  {
   "cell_type": "code",
   "execution_count": 16,
   "id": "04102596",
   "metadata": {},
   "outputs": [
    {
     "data": {
      "text/plain": [
       "Lasso()"
      ]
     },
     "execution_count": 16,
     "metadata": {},
     "output_type": "execute_result"
    }
   ],
   "source": [
    "ls.fit(xtrain, ytrain)"
   ]
  }
 ],
 "metadata": {
  "kernelspec": {
   "display_name": "Python 3",
   "language": "python",
   "name": "python3"
  },
  "language_info": {
   "codemirror_mode": {
    "name": "ipython",
    "version": 3
   },
   "file_extension": ".py",
   "mimetype": "text/x-python",
   "name": "python",
   "nbconvert_exporter": "python",
   "pygments_lexer": "ipython3",
   "version": "3.6.6"
  }
 },
 "nbformat": 4,
 "nbformat_minor": 5
}
