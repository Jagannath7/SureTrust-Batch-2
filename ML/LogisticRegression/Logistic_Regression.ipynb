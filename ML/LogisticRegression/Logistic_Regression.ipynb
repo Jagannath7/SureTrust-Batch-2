{
 "cells": [
  {
   "cell_type": "code",
   "execution_count": 1,
   "id": "1537c13e",
   "metadata": {},
   "outputs": [],
   "source": [
    "import numpy as np\n",
    "import pandas as pd\n",
    "import matplotlib.pyplot as plt\n",
    "%matplotlib inline"
   ]
  },
  {
   "cell_type": "code",
   "execution_count": 2,
   "id": "865f5e6d",
   "metadata": {},
   "outputs": [
    {
     "name": "stdout",
     "output_type": "stream",
     "text": [
      "(500, 2) (500, 2)\n"
     ]
    }
   ],
   "source": [
    "m1, cov1 = [1, 5], [[1, 0.1], [0.1, 1]]\n",
    "m2, cov2 = [4, 6], [[1, 0.1], [0.1, 0.2]]\n",
    "\n",
    "dist1 = np.random.multivariate_normal(m1, cov1, 500)\n",
    "dist2 = np.random.multivariate_normal(m2, cov2, 500)\n",
    "\n",
    "print(dist1.shape, dist2.shape)"
   ]
  },
  {
   "cell_type": "code",
   "execution_count": 3,
   "id": "94f6d9a0",
   "metadata": {},
   "outputs": [
    {
     "data": {
      "image/png": "[encoded data removed]",
      "text/plain": [
       "<Figure size 432x288 with 1 Axes>"
      ]
     },
     "metadata": {
      "needs_background": "light"
     },
     "output_type": "display_data"
    }
   ],
   "source": [
    "plt.scatter(dist1[:, 0], dist1[:, 1])\n",
    "plt.scatter(dist2[:, 0], dist2[:, 1])\n",
    "\n",
    "plt.show()"
   ]
  },
  {
   "cell_type": "code",
   "execution_count": 4,
   "id": "8880f356",
   "metadata": {},
   "outputs": [
    {
     "name": "stdout",
     "output_type": "stream",
     "text": [
      "(1000, 3)\n"
     ]
    }
   ],
   "source": [
    "data = np.zeros((1000, 3))\n",
    "data[:500, :2] = dist1\n",
    "data[500:, :2] = dist2\n",
    "data[500:, -1] = 1\n",
    "\n",
    "print(data.shape)"
   ]
  },
  {
   "cell_type": "code",
   "execution_count": 7,
   "id": "f23c91bf",
   "metadata": {},
   "outputs": [],
   "source": [
    "np.random.shuffle(data)"
   ]
  },
  {
   "cell_type": "code",
   "execution_count": 8,
   "id": "6c21df70",
   "metadata": {},
   "outputs": [
    {
     "data": {
      "text/plain": [
       "array([[1.14913297, 6.5988098 , 0.        ],\n",
       "       [0.63875557, 4.18903645, 0.        ],\n",
       "       [5.80832554, 7.08594629, 1.        ],\n",
       "       [3.89376868, 6.76163953, 1.        ],\n",
       "       [0.57394666, 5.54984024, 0.        ],\n",
       "       [2.87823065, 5.96003223, 1.        ],\n",
       "       [1.60764129, 3.55194583, 0.        ],\n",
       "       [4.96737581, 5.36137183, 1.        ],\n",
       "       [5.08377514, 5.87182554, 1.        ],\n",
       "       [1.97899478, 6.21589633, 0.        ]])"
      ]
     },
     "execution_count": 8,
     "metadata": {},
     "output_type": "execute_result"
    }
   ],
   "source": [
    "data[:10]"
   ]
  },
  {
   "cell_type": "code",
   "execution_count": 9,
   "id": "069f5ce2",
   "metadata": {},
   "outputs": [],
   "source": [
    "from sklearn.model_selection import train_test_split"
   ]
  },
  {
   "cell_type": "code",
   "execution_count": 10,
   "id": "48fb9d03",
   "metadata": {},
   "outputs": [
    {
     "name": "stdout",
     "output_type": "stream",
     "text": [
      "(750, 2) (750,)\n",
      "(250, 2) (250,)\n"
     ]
    }
   ],
   "source": [
    "xtrain, xtest, ytrain, ytest = train_test_split(data[:, :2], data[:, -1])\n",
    "print(xtrain.shape, ytrain.shape)\n",
    "print(xtest.shape, ytest.shape)"
   ]
  },
  {
   "cell_type": "code",
   "execution_count": 11,
   "id": "4d0a39ee",
   "metadata": {},
   "outputs": [],
   "source": [
    "def sigmoid(z):\n",
    "    return 1/(1+np.exp(-1*z))"
   ]
  },
  {
   "cell_type": "code",
   "execution_count": 12,
   "id": "332a7cd0",
   "metadata": {},
   "outputs": [],
   "source": [
    "def hypothesis(X, W, b):\n",
    "    \n",
    "    h = (X*W).sum() + b\n",
    "    return sigmoid(h)"
   ]
  },
  {
   "cell_type": "code",
   "execution_count": 13,
   "id": "b4476d01",
   "metadata": {},
   "outputs": [],
   "source": [
    "def log_likelihood(X, W, b, y):\n",
    "    \n",
    "    total = 0.0\n",
    "    m = X.shape[0]\n",
    "    \n",
    "    for i in range(m):\n",
    "        \n",
    "        if y[i] == 0:\n",
    "            total += np.log(1 - hypothesis(X[i], W, b))\n",
    "        else:\n",
    "            total += np.log(hypothesis(X[i], W, b))\n",
    "            \n",
    "    total /= m\n",
    "    return total"
   ]
  },
  {
   "cell_type": "code",
   "execution_count": 15,
   "id": "b438ac62",
   "metadata": {},
   "outputs": [],
   "source": [
    "def gradient_ascent(X, W, b, y, learning_rate = 0.1):\n",
    "    m = X.shape[0]\n",
    "    gradW = np.zeros(2)\n",
    "    gradb = 0.0\n",
    "\n",
    "    for i in range(m):\n",
    "\n",
    "        gradW += (y[i] - hypothesis(X[i], W, b))*X[i]\n",
    "        gradb += (y[i] - hypothesis(X[i], W, b))*1\n",
    "\n",
    "    gradW /= m\n",
    "    gradb /= m\n",
    "\n",
    "    W += learning_rate*gradW\n",
    "    b += learning_rate*gradb\n",
    "    logs = log_likelihood(X, W, b, y)\n",
    "\n",
    "    return W, b, logs"
   ]
  },
  {
   "cell_type": "code",
   "execution_count": 16,
   "id": "67acfa3f",
   "metadata": {},
   "outputs": [
    {
     "name": "stdout",
     "output_type": "stream",
     "text": [
      "[ 2.2795202  -1.13791208]\n",
      "0.7476960805207287\n"
     ]
    }
   ],
   "source": [
    "W = np.array([0.5, 0.5])\n",
    "b = 2.5\n",
    "logs_list = []\n",
    "\n",
    "for i in range(500):\n",
    "    W, b ,logs = gradient_ascent(xtrain, W, b, ytrain)\n",
    "    logs_list.append(logs)\n",
    "print(W)\n",
    "print(b)"
   ]
  },
  {
   "cell_type": "code",
   "execution_count": 17,
   "id": "6b560e3b",
   "metadata": {},
   "outputs": [
    {
     "data": {
      "image/png": "[encoded data removed]",
      "text/plain": [
       "<Figure size 432x288 with 1 Axes>"
      ]
     },
     "metadata": {
      "needs_background": "light"
     },
     "output_type": "display_data"
    }
   ],
   "source": [
    "plt.plot(logs_list)\n",
    "plt.show()"
   ]
  },
  {
   "cell_type": "code",
   "execution_count": 18,
   "id": "ea7fd5e2",
   "metadata": {},
   "outputs": [],
   "source": [
    "def predict(x, W, b):\n",
    "    pred = hypothesis(x, W, b)\n",
    "    if pred<0.5:\n",
    "        return 0\n",
    "    else:\n",
    "        return 1\n",
    "    "
   ]
  },
  {
   "cell_type": "code",
   "execution_count": 22,
   "id": "c1aab647",
   "metadata": {},
   "outputs": [
    {
     "name": "stdout",
     "output_type": "stream",
     "text": [
      "1\n"
     ]
    }
   ],
   "source": [
    "print(predict(xtest[200, :], W, b))"
   ]
  },
  {
   "cell_type": "code",
   "execution_count": 24,
   "id": "ba39913f",
   "metadata": {},
   "outputs": [
    {
     "data": {
      "text/plain": [
       "1.0"
      ]
     },
     "execution_count": 24,
     "metadata": {},
     "output_type": "execute_result"
    }
   ],
   "source": [
    "ytest[200]"
   ]
  },
  {
   "cell_type": "code",
   "execution_count": 25,
   "id": "18dfc9ea",
   "metadata": {},
   "outputs": [],
   "source": [
    "def scores(Xtest, Ytest, W, b):\n",
    "    preds = []\n",
    "    m = Xtest.shape[0]\n",
    "    \n",
    "    for i in range(m):\n",
    "        p = predict(Xtest[i], W ,b)\n",
    "        preds.append(p)\n",
    "    preds = np.asarray(preds)\n",
    "    \n",
    "    return (preds==Ytest).sum() *100/m"
   ]
  },
  {
   "cell_type": "code",
   "execution_count": 27,
   "id": "99540adb",
   "metadata": {},
   "outputs": [
    {
     "data": {
      "text/plain": [
       "88.4"
      ]
     },
     "execution_count": 27,
     "metadata": {},
     "output_type": "execute_result"
    }
   ],
   "source": [
    "scores(xtest, ytest, W, b)"
   ]
  },
  {
   "cell_type": "code",
   "execution_count": 30,
   "id": "0ac4207b",
   "metadata": {},
   "outputs": [],
   "source": [
    "# count = 0\n",
    "# for i in range(len(xtest)):\n",
    "    \n",
    "#     if ytest[i] == predict(xtest[i], W ,b):\n",
    "#         count +=1"
   ]
  },
  {
   "cell_type": "code",
   "execution_count": 32,
   "id": "4a329534",
   "metadata": {},
   "outputs": [
    {
     "name": "stdout",
     "output_type": "stream",
     "text": [
      "88.4\n"
     ]
    }
   ],
   "source": [
    "# print(count*100/(len(xtest)))"
   ]
  },
  {
   "cell_type": "code",
   "execution_count": 33,
   "id": "55ef7f1d",
   "metadata": {},
   "outputs": [
    {
     "data": {
      "image/png": "[encoded data removed]",
      "text/plain": [
       "<Figure size 432x288 with 1 Axes>"
      ]
     },
     "metadata": {
      "needs_background": "light"
     },
     "output_type": "display_data"
    }
   ],
   "source": [
    "plt.scatter(dist1[:, 0], dist1[:, 1])\n",
    "plt.scatter(dist2[:, 0], dist2[:, 1])\n",
    "\n",
    "m = xtest.shape[0]\n",
    "\n",
    "for i in range(m):\n",
    "    x = xtest[i]\n",
    "    p = predict(x, W, b)\n",
    "    if p==0:\n",
    "        plt.plot(x[0], x[1], 'r.')\n",
    "    else:\n",
    "        plt.plot(x[0], x[1], 'g.')\n",
    "plt.show()"
   ]
  },
  {
   "cell_type": "code",
   "execution_count": 35,
   "id": "909dd031",
   "metadata": {},
   "outputs": [],
   "source": [
    "from sklearn.linear_model import LogisticRegression"
   ]
  },
  {
   "cell_type": "code",
   "execution_count": 36,
   "id": "6c681059",
   "metadata": {},
   "outputs": [],
   "source": [
    "lr = LogisticRegression()"
   ]
  },
  {
   "cell_type": "code",
   "execution_count": 37,
   "id": "7145cb3c",
   "metadata": {},
   "outputs": [
    {
     "data": {
      "text/plain": [
       "LogisticRegression()"
      ]
     },
     "execution_count": 37,
     "metadata": {},
     "output_type": "execute_result"
    }
   ],
   "source": [
    "lr.fit(xtrain, ytrain)"
   ]
  },
  {
   "cell_type": "code",
   "execution_count": 38,
   "id": "d3d65166",
   "metadata": {},
   "outputs": [
    {
     "data": {
      "text/plain": [
       "0.944"
      ]
     },
     "execution_count": 38,
     "metadata": {},
     "output_type": "execute_result"
    }
   ],
   "source": [
    "lr.score(xtest, ytest)"
   ]
  },
  {
   "cell_type": "code",
   "execution_count": 39,
   "id": "5c36e626",
   "metadata": {},
   "outputs": [
    {
     "data": {
      "text/plain": [
       "array([1., 1., 1., 0., 1., 0., 0., 0., 0., 0., 1., 1., 1., 0., 0., 1., 1.,\n",
       "       1., 0., 0., 1., 0., 0., 0., 0., 0., 0., 0., 0., 1., 0., 0., 1., 0.,\n",
       "       1., 0., 1., 1., 0., 1., 1., 0., 1., 1., 0., 1., 1., 1., 1., 1., 1.,\n",
       "       1., 0., 0., 1., 0., 0., 1., 0., 1., 1., 1., 0., 1., 1., 1., 1., 1.,\n",
       "       0., 0., 0., 0., 0., 0., 1., 0., 1., 0., 0., 1., 1., 0., 0., 1., 1.,\n",
       "       1., 0., 0., 0., 0., 0., 1., 0., 1., 1., 1., 0., 0., 1., 1., 1., 1.,\n",
       "       0., 0., 0., 1., 1., 1., 0., 1., 1., 0., 0., 0., 1., 0., 0., 0., 0.,\n",
       "       0., 0., 1., 1., 0., 0., 1., 0., 1., 1., 1., 1., 0., 1., 1., 1., 1.,\n",
       "       1., 1., 0., 0., 1., 1., 1., 0., 1., 1., 0., 0., 0., 0., 0., 0., 1.,\n",
       "       1., 1., 0., 0., 1., 0., 0., 1., 1., 0., 1., 1., 1., 0., 1., 0., 0.,\n",
       "       0., 1., 1., 1., 0., 0., 1., 0., 1., 1., 1., 0., 0., 1., 0., 1., 0.,\n",
       "       0., 0., 0., 1., 1., 1., 1., 0., 1., 0., 0., 0., 1., 1., 1., 1., 1.,\n",
       "       1., 1., 0., 1., 0., 0., 0., 0., 1., 0., 0., 0., 0., 1., 0., 0., 0.,\n",
       "       0., 0., 0., 1., 1., 0., 0., 0., 0., 1., 0., 0., 0., 1., 0., 0., 1.,\n",
       "       0., 1., 1., 0., 1., 1., 1., 1., 0., 0., 1., 0.])"
      ]
     },
     "execution_count": 39,
     "metadata": {},
     "output_type": "execute_result"
    }
   ],
   "source": [
    "lr.predict(xtest)"
   ]
  }
 ],
 "metadata": {
  "kernelspec": {
   "display_name": "Python 3",
   "language": "python",
   "name": "python3"
  },
  "language_info": {
   "codemirror_mode": {
    "name": "ipython",
    "version": 3
   },
   "file_extension": ".py",
   "mimetype": "text/x-python",
   "name": "python",
   "nbconvert_exporter": "python",
   "pygments_lexer": "ipython3",
   "version": "3.6.6"
  }
 },
 "nbformat": 4,
 "nbformat_minor": 5
}
